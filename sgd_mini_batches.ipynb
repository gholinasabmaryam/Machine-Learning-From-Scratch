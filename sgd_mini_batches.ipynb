{
 "cells": [
  {
   "cell_type": "markdown",
   "id": "06b463f0",
   "metadata": {},
   "source": [
    "# **Stochastic Gradient Descent with Mini-Batches**"
   ]
  },
  {
   "cell_type": "markdown",
   "id": "44f9a99c",
   "metadata": {},
   "source": [
    "**Goal:**    \n",
    "in this notebook I'll explor how Stochastic Gradient Descent (SGD) works for binary classification. We start with a simple SGD approach, then improve it using mini-batches to make training faster & more stable. \n",
    "at teh end, we'll check how well is our model performing with a confusion matrix to see its predictions.\n"
   ]
  },
  {
   "cell_type": "markdown",
   "id": "75b18b4f",
   "metadata": {},
   "source": [
    "# SGD"
   ]
  },
  {
   "cell_type": "code",
   "execution_count": 1,
   "id": "9ba7608d",
   "metadata": {},
   "outputs": [],
   "source": [
    "#data\n",
    "from sklearn.linear_model import SGDClassifier\n",
    "from sklearn.datasets import make_classification\n",
    "from sklearn.model_selection import train_test_split\n",
    "from sklearn.metrics import hinge_loss\n",
    "\n",
    "X, y =make_classification(n_samples=1000, n_features=10, n_classes=2, random_state=42)\n",
    "\n",
    "#converting labels to -1, 1 if needed (SGDClassifier handles 0/1 too)\n",
    "y=2*y-1  #optional for hinge loss to perform better\n",
    "\n",
    "#train test splitting\n",
    "Xtrain, Xtest, Ytrain, Ytest = train_test_split(X, y, test_size=0.2, random_state=42)"
   ]
  },
  {
   "cell_type": "code",
   "execution_count": 2,
   "id": "30693ea4",
   "metadata": {},
   "outputs": [
    {
     "data": {
      "text/html": [
       "<style>#sk-container-id-1 {color: black;background-color: white;}#sk-container-id-1 pre{padding: 0;}#sk-container-id-1 div.sk-toggleable {background-color: white;}#sk-container-id-1 label.sk-toggleable__label {cursor: pointer;display: block;width: 100%;margin-bottom: 0;padding: 0.3em;box-sizing: border-box;text-align: center;}#sk-container-id-1 label.sk-toggleable__label-arrow:before {content: \"▸\";float: left;margin-right: 0.25em;color: #696969;}#sk-container-id-1 label.sk-toggleable__label-arrow:hover:before {color: black;}#sk-container-id-1 div.sk-estimator:hover label.sk-toggleable__label-arrow:before {color: black;}#sk-container-id-1 div.sk-toggleable__content {max-height: 0;max-width: 0;overflow: hidden;text-align: left;background-color: #f0f8ff;}#sk-container-id-1 div.sk-toggleable__content pre {margin: 0.2em;color: black;border-radius: 0.25em;background-color: #f0f8ff;}#sk-container-id-1 input.sk-toggleable__control:checked~div.sk-toggleable__content {max-height: 200px;max-width: 100%;overflow: auto;}#sk-container-id-1 input.sk-toggleable__control:checked~label.sk-toggleable__label-arrow:before {content: \"▾\";}#sk-container-id-1 div.sk-estimator input.sk-toggleable__control:checked~label.sk-toggleable__label {background-color: #d4ebff;}#sk-container-id-1 div.sk-label input.sk-toggleable__control:checked~label.sk-toggleable__label {background-color: #d4ebff;}#sk-container-id-1 input.sk-hidden--visually {border: 0;clip: rect(1px 1px 1px 1px);clip: rect(1px, 1px, 1px, 1px);height: 1px;margin: -1px;overflow: hidden;padding: 0;position: absolute;width: 1px;}#sk-container-id-1 div.sk-estimator {font-family: monospace;background-color: #f0f8ff;border: 1px dotted black;border-radius: 0.25em;box-sizing: border-box;margin-bottom: 0.5em;}#sk-container-id-1 div.sk-estimator:hover {background-color: #d4ebff;}#sk-container-id-1 div.sk-parallel-item::after {content: \"\";width: 100%;border-bottom: 1px solid gray;flex-grow: 1;}#sk-container-id-1 div.sk-label:hover label.sk-toggleable__label {background-color: #d4ebff;}#sk-container-id-1 div.sk-serial::before {content: \"\";position: absolute;border-left: 1px solid gray;box-sizing: border-box;top: 0;bottom: 0;left: 50%;z-index: 0;}#sk-container-id-1 div.sk-serial {display: flex;flex-direction: column;align-items: center;background-color: white;padding-right: 0.2em;padding-left: 0.2em;position: relative;}#sk-container-id-1 div.sk-item {position: relative;z-index: 1;}#sk-container-id-1 div.sk-parallel {display: flex;align-items: stretch;justify-content: center;background-color: white;position: relative;}#sk-container-id-1 div.sk-item::before, #sk-container-id-1 div.sk-parallel-item::before {content: \"\";position: absolute;border-left: 1px solid gray;box-sizing: border-box;top: 0;bottom: 0;left: 50%;z-index: -1;}#sk-container-id-1 div.sk-parallel-item {display: flex;flex-direction: column;z-index: 1;position: relative;background-color: white;}#sk-container-id-1 div.sk-parallel-item:first-child::after {align-self: flex-end;width: 50%;}#sk-container-id-1 div.sk-parallel-item:last-child::after {align-self: flex-start;width: 50%;}#sk-container-id-1 div.sk-parallel-item:only-child::after {width: 0;}#sk-container-id-1 div.sk-dashed-wrapped {border: 1px dashed gray;margin: 0 0.4em 0.5em 0.4em;box-sizing: border-box;padding-bottom: 0.4em;background-color: white;}#sk-container-id-1 div.sk-label label {font-family: monospace;font-weight: bold;display: inline-block;line-height: 1.2em;}#sk-container-id-1 div.sk-label-container {text-align: center;}#sk-container-id-1 div.sk-container {/* jupyter's `normalize.less` sets `[hidden] { display: none; }` but bootstrap.min.css set `[hidden] { display: none !important; }` so we also need the `!important` here to be able to override the default hidden behavior on the sphinx rendered scikit-learn.org. See: https://github.com/scikit-learn/scikit-learn/issues/21755 */display: inline-block !important;position: relative;}#sk-container-id-1 div.sk-text-repr-fallback {display: none;}</style><div id=\"sk-container-id-1\" class=\"sk-top-container\"><div class=\"sk-text-repr-fallback\"><pre>SGDClassifier(eta0=0.01, learning_rate=&#x27;invscaling&#x27;)</pre><b>In a Jupyter environment, please rerun this cell to show the HTML representation or trust the notebook. <br />On GitHub, the HTML representation is unable to render, please try loading this page with nbviewer.org.</b></div><div class=\"sk-container\" hidden><div class=\"sk-item\"><div class=\"sk-estimator sk-toggleable\"><input class=\"sk-toggleable__control sk-hidden--visually\" id=\"sk-estimator-id-1\" type=\"checkbox\" checked><label for=\"sk-estimator-id-1\" class=\"sk-toggleable__label sk-toggleable__label-arrow\">SGDClassifier</label><div class=\"sk-toggleable__content\"><pre>SGDClassifier(eta0=0.01, learning_rate=&#x27;invscaling&#x27;)</pre></div></div></div></div></div>"
      ],
      "text/plain": [
       "SGDClassifier(eta0=0.01, learning_rate='invscaling')"
      ]
     },
     "execution_count": 2,
     "metadata": {},
     "output_type": "execute_result"
    }
   ],
   "source": [
    "#model\n",
    "model=SGDClassifier(loss='hinge',learning_rate='invscaling', eta0=0.01, max_iter=1000)\n",
    "model.fit(Xtrain, Ytrain)"
   ]
  },
  {
   "cell_type": "code",
   "execution_count": 3,
   "id": "ca6e69f5",
   "metadata": {},
   "outputs": [
    {
     "name": "stdout",
     "output_type": "stream",
     "text": [
      "Error: 0.39319419464588906\n"
     ]
    }
   ],
   "source": [
    "#LOSS\n",
    "scores=model.decision_function(Xtest)\n",
    "loss=hinge_loss(Ytest, scores)\n",
    "\n",
    "print(\"Error:\", loss)"
   ]
  },
  {
   "cell_type": "markdown",
   "id": "c50b3658",
   "metadata": {},
   "source": [
    "# Mini-Batch SGD Implementation"
   ]
  },
  {
   "cell_type": "code",
   "execution_count": 4,
   "id": "28ecbf5d",
   "metadata": {},
   "outputs": [],
   "source": [
    "#data\n",
    "from sklearn.linear_model import SGDClassifier\n",
    "from sklearn.datasets import make_classification\n",
    "from sklearn.metrics import hinge_loss, accuracy_score\n",
    "from sklearn.preprocessing import StandardScaler\n",
    "import numpy as np\n",
    "\n",
    "X, y= make_classification(n_samples=1000, n_features=10, n_classes=2, random_state=42)\n",
    "y=2*y-1  #converting labels from {0,1} to {-1,1}\n",
    "\n",
    "#scaling\n",
    "scaler = StandardScaler()\n",
    "X=scaler.fit_transform(X)"
   ]
  },
  {
   "cell_type": "code",
   "execution_count": 5,
   "id": "aa897e5d",
   "metadata": {},
   "outputs": [
    {
     "name": "stdout",
     "output_type": "stream",
     "text": [
      "Epoch 1:  Loss(Hinge)= 0.3327\n",
      "Epoch 2:  Loss(Hinge)= 0.3327\n",
      "Epoch 3:  Loss(Hinge)= 0.3311\n",
      "Epoch 4:  Loss(Hinge)= 0.3321\n",
      "Epoch 5:  Loss(Hinge)= 0.3317\n",
      "Epoch 6:  Loss(Hinge)= 0.3321\n",
      "Epoch 7:  Loss(Hinge)= 0.3311\n",
      "Epoch 8:  Loss(Hinge)= 0.3316\n",
      "Epoch 9:  Loss(Hinge)= 0.3310\n",
      "Epoch 10:  Loss(Hinge)= 0.3297\n",
      "Epoch 11:  Loss(Hinge)= 0.3343\n",
      "Epoch 12:  Loss(Hinge)= 0.3320\n",
      "Epoch 13:  Loss(Hinge)= 0.3322\n",
      "Epoch 14:  Loss(Hinge)= 0.3312\n",
      "Epoch 15:  Loss(Hinge)= 0.3351\n",
      "Epoch 16:  Loss(Hinge)= 0.3332\n",
      "Epoch 17:  Loss(Hinge)= 0.3292\n",
      "Epoch 18:  Loss(Hinge)= 0.3309\n",
      "Epoch 19:  Loss(Hinge)= 0.3308\n",
      "Epoch 20:  Loss(Hinge)= 0.3310\n"
     ]
    }
   ],
   "source": [
    "#model & loss(Hinge)\n",
    "classifier = SGDClassifier(loss='hinge', learning_rate='constant', eta0=0.01, alpha=0, max_iter=1, warm_start=True)\n",
    "\n",
    "batchsize = 64 #how many samoles does each batch contain\n",
    "epochs = 20 #how many times redo the sgd\n",
    "samples = X.shape[0] #this is the number of samples\n",
    "\n",
    "#making mini batches\n",
    "for epoch in range(epochs):\n",
    "    indices = np.random.permutation(samples) #changing the order of the data will give us random member of patches in future\n",
    "    xshuffled, yshuffled = X[indices], y[indices]\n",
    "    \n",
    "    for start in range(0, samples, batchsize):\n",
    "        end=start+batchsize\n",
    "        xbatch, ybatch =xshuffled[start:end], yshuffled[start:end]\n",
    "        classifier.partial_fit(xbatch, ybatch, classes=[-1, 1])  #First call needs 'classes'\n",
    "\n",
    "#evaluating the loss after each epoch\n",
    "    scores=classifier.decision_function(X)\n",
    "    loss=hinge_loss(y, scores)\n",
    "    print(f\"Epoch {epoch+1}:  Loss(Hinge)= {loss:.4f}\")"
   ]
  },
  {
   "cell_type": "markdown",
   "id": "de786438",
   "metadata": {},
   "source": [
    "### confusion matrix"
   ]
  },
  {
   "cell_type": "code",
   "execution_count": 6,
   "id": "60415d1f",
   "metadata": {},
   "outputs": [
    {
     "data": {
      "image/png": "[encoded data removed]",
      "text/plain": [
       "<Figure size 640x480 with 2 Axes>"
      ]
     },
     "metadata": {},
     "output_type": "display_data"
    }
   ],
   "source": [
    "from sklearn.metrics import ConfusionMatrixDisplay\n",
    "import matplotlib.pyplot as plt\n",
    "\n",
    "y_sgdmini_pred = classifier.predict(Xtest)\n",
    "ConfusionMatrixDisplay.from_predictions(Ytest, y_sgdmini_pred)\n",
    "plt.title(\"Confusion Matrix\")\n",
    "plt.show()"
   ]
  }
 ],
 "metadata": {
  "kernelspec": {
   "display_name": "base",
   "language": "python",
   "name": "python3"
  },
  "language_info": {
   "codemirror_mode": {
    "name": "ipython",
    "version": 3
   },
   "file_extension": ".py",
   "mimetype": "text/x-python",
   "name": "python",
   "nbconvert_exporter": "python",
   "pygments_lexer": "ipython3",
   "version": "3.11.3"
  }
 },
 "nbformat": 4,
 "nbformat_minor": 5
}
