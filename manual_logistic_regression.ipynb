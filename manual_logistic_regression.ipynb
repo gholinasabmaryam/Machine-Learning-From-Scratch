{
 "cells": [
  {
   "cell_type": "markdown",
   "id": "ab518359",
   "metadata": {},
   "source": [
    "# **Manual Logistic Regression**"
   ]
  },
  {
   "cell_type": "code",
   "execution_count": 5,
   "id": "c8272a9d",
   "metadata": {},
   "outputs": [],
   "source": [
    "Goal=\"\"\"In this code I will implement logistic regression from scratch using gradient descent to classify data.\n",
    "this is aiming to understand the algorithm's core principles without relying on ML libraries.\"\"\"\n"
   ]
  },
  {
   "cell_type": "markdown",
   "id": "cc58a3ab",
   "metadata": {},
   "source": [
    "## Data Preparation"
   ]
  },
  {
   "cell_type": "code",
   "execution_count": 6,
   "id": "6b2b98fb",
   "metadata": {},
   "outputs": [],
   "source": [
    "\"\"\" data source: Autoencoder Entanglement detection optimizer\n",
    "https://gitlab.com/quantum-machine-learning/autoencoder-entanglement-detection-optimizer\"\"\"\n",
    "\n",
    "import pickle \n",
    "from sklearn.model_selection import train_test_split \n",
    "import numpy as np \n",
    "df = pickle.load(open( r\"C:\\Users\\Maryam\\Desktop\\8th term\\ML\\E3.ML\\data_4\\data\", 'rb')) # 'rb' = \"read binary\"\n",
    "\n",
    "X = df.iloc[:, :-1]  #selecting everything except the last one (Features)\n",
    "y = df.iloc[:, -1]  #last column (target label)\n",
    "\n",
    "xtrain, xtest, ytrain, ytest = train_test_split(X, y, test_size=0.3) #30% of the data is chosen randomly for the test set\n",
    "xtrain=np.array(xtrain)\n",
    "ytrain=np.array(ytrain)\n",
    "xtest=np.array(xtest)\n",
    "ytest=np.array(ytest)"
   ]
  },
  {
   "cell_type": "markdown",
   "id": "2810e11e",
   "metadata": {},
   "source": [
    "## Logistic Regression Model"
   ]
  },
  {
   "cell_type": "code",
   "execution_count": 7,
   "id": "b1441b6f",
   "metadata": {},
   "outputs": [],
   "source": [
    "#truth: yt={0,1}     #predicted: yi'=yp_i = σ(w^T*xi + b) ; σ= 1/ 1 + exp(-z)\n",
    "#loss func: L=-1/N ∑ (yi*log(yi') + (1-yi)*log(1-yi'))\n",
    "# gradient descent: wj-η.dL/dwj -> wj   ,   b-η.dL/db -> b\n",
    "epsilon=10**(-5)\n",
    "import matplotlib.pyplot as plt\n",
    "#z=np.dot(x.T,w) + b\n",
    "#yp= sigmoid*z    #yp_i = σ(w^T*xi + b) \n",
    "\n",
    "#sigmoid function\n",
    "def sigmoid (z):\n",
    "    sigma= 1/ (1 + np.exp(-z))\n",
    "    return sigma\n",
    "\n",
    "\n",
    "#gradient\n",
    "def gradient(x,yt,yr):\n",
    "    N=len(yr)\n",
    "    dldw=np.ones(16)\n",
    "    dLdb=0\n",
    "    #partial derivatives\n",
    "    for i in range(N):\n",
    "        dLdb+=((1+np.e**(-yr[i]))**-2 * np.e**(-yr[i]))*(yt[i]/sigmoid(yr[i]+epsilon) - (1-yt[i])/(1-sigmoid(yr[i]+epsilon)))\n",
    "        dldw+=x[i][:]*((1+np.e**(-yr[i]))**-2 * np.e**(-yr[i]))*(yt[i]/sigmoid(yr[i]+epsilon) - (1-yt[i])/(1-sigmoid(yr[i]+epsilon))) \n",
    "    return (-1*dldw/N, -dLdb/N)\n",
    "\n",
    "def regression(x,yt,epoch):\n",
    "    n_samples, n_features = x.shape\n",
    "    w = np.ones(n_features) #initial w\n",
    "    b=0\n",
    "    η=1 #learning rate\n",
    "    for j in range(epoch):\n",
    "        yr=[]\n",
    "        for i in range(n_samples):\n",
    "            yr.append(np.dot(w.T,x[i][:])+b)\n",
    "        dw=-η*(gradient(x,yt,np.array(yr))[0])\n",
    "        db=-η*(gradient(x,yt,np.array(yr))[1])\n",
    "        w+=dw\n",
    "        b+=db\n",
    "    return (w,b)"
   ]
  },
  {
   "cell_type": "code",
   "execution_count": 8,
   "id": "d38a099f",
   "metadata": {},
   "outputs": [
    {
     "data": {
      "image/png": "[encoded data removed]",
      "text/plain": [
       "<Figure size 640x480 with 1 Axes>"
      ]
     },
     "metadata": {},
     "output_type": "display_data"
    }
   ],
   "source": [
    "A=regression(xtrain,ytrain,10)\n",
    "\n",
    "#the loss function - binary cross entropy \n",
    "def lossfunc(yt,yp):\n",
    "    L=0\n",
    "    N=len(yp)\n",
    "    L=0\n",
    "    for i in range(N):\n",
    "        L+= (yt[i]*np.log(yp[i])+(1-yt[i])*np.log(1-yp[i]))\n",
    "    return -L/N\n",
    "\n",
    "#prediction\n",
    "yp=[]\n",
    "for i in range(len(ytest)):\n",
    "    yp.append(sigmoid(np.dot(A[0].T,xtest[i][:])+A[1]))\n",
    "\n",
    "#Measuring loss func in different epochs number\n",
    "B=[5,10,50,100,1000]\n",
    "C=[]\n",
    "for k in B:\n",
    "    A=regression(xtrain,ytrain,k)\n",
    "    yp=[]\n",
    "    for i in range(len(ytest)):\n",
    "        yp.append(sigmoid(np.dot(A[0].T,xtest[i][:])+A[1]))\n",
    "    C.append(lossfunc(ytest,yp))\n",
    "plt.plot(B,C)\n",
    "plt.title(\"Logistic Regression Training Loss\")\n",
    "plt.xlabel(\"Epochs\")\n",
    "plt.ylabel(\"Loss\")\n",
    "plt.show()"
   ]
  }
 ],
 "metadata": {
  "kernelspec": {
   "display_name": "base",
   "language": "python",
   "name": "python3"
  },
  "language_info": {
   "codemirror_mode": {
    "name": "ipython",
    "version": 3
   },
   "file_extension": ".py",
   "mimetype": "text/x-python",
   "name": "python",
   "nbconvert_exporter": "python",
   "pygments_lexer": "ipython3",
   "version": "3.11.3"
  }
 },
 "nbformat": 4,
 "nbformat_minor": 5
}
